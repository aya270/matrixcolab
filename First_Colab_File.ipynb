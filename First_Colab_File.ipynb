{
  "nbformat": 4,
  "nbformat_minor": 0,
  "metadata": {
    "colab": {
      "provenance": [],
      "include_colab_link": true
    },
    "kernelspec": {
      "name": "python3",
      "display_name": "Python 3"
    },
    "language_info": {
      "name": "python"
    }
  },
  "cells": [
    {
      "cell_type": "markdown",
      "metadata": {
        "id": "view-in-github",
        "colab_type": "text"
      },
      "source": [
        "<a href=\"https://colab.research.google.com/github/aya270/matrixcolab/blob/main/First_Colab_File.ipynb\" target=\"_parent\"><img src=\"https://colab.research.google.com/assets/colab-badge.svg\" alt=\"Open In Colab\"/></a>"
      ]
    },
    {
      "cell_type": "markdown",
      "source": [
        "#Matrix"
      ],
      "metadata": {
        "id": "xiNQ7joXtW3U"
      }
    },
    {
      "cell_type": "code",
      "execution_count": null,
      "metadata": {
        "id": "6cI7RRe_mmyW"
      },
      "outputs": [],
      "source": [
        "import numpy as np\n",
        "matrix=np.array([[1,2,3],\n",
        "                 [4,5,6]])\n",
        "\n"
      ]
    },
    {
      "cell_type": "code",
      "source": [
        "mean_value=np.mean(matrix)\n",
        "mean_value"
      ],
      "metadata": {
        "colab": {
          "base_uri": "https://localhost:8080/"
        },
        "id": "ZF4_3kDgnmGJ",
        "outputId": "abd29828-4629-49b7-c226-648ec759b3b4"
      },
      "execution_count": null,
      "outputs": [
        {
          "output_type": "execute_result",
          "data": {
            "text/plain": [
              "3.5"
            ]
          },
          "metadata": {},
          "execution_count": 83
        }
      ]
    },
    {
      "cell_type": "code",
      "source": [
        "mode_value=np.argmax(matrix)+1\n",
        "mode_value"
      ],
      "metadata": {
        "colab": {
          "base_uri": "https://localhost:8080/"
        },
        "id": "3lNza1F-nmIZ",
        "outputId": "394e62c9-63b2-48da-9b07-b1ebfbe7621a"
      },
      "execution_count": null,
      "outputs": [
        {
          "output_type": "execute_result",
          "data": {
            "text/plain": [
              "6"
            ]
          },
          "metadata": {},
          "execution_count": 84
        }
      ]
    },
    {
      "cell_type": "code",
      "source": [
        "median_value=np.median(matrix)\n",
        "median_value"
      ],
      "metadata": {
        "colab": {
          "base_uri": "https://localhost:8080/"
        },
        "id": "1poR8O5OnmKu",
        "outputId": "a9faf3e4-5e75-4d4a-8474-79ff097c48f1"
      },
      "execution_count": null,
      "outputs": [
        {
          "output_type": "execute_result",
          "data": {
            "text/plain": [
              "3.5"
            ]
          },
          "metadata": {},
          "execution_count": 85
        }
      ]
    },
    {
      "cell_type": "code",
      "source": [
        "matrix2=np.array([[1,2,3],\n",
        "                 [0,5,8]])"
      ],
      "metadata": {
        "id": "1vBkkVQP0Wjk"
      },
      "execution_count": null,
      "outputs": []
    },
    {
      "cell_type": "code",
      "source": [
        "matrix+matrix2"
      ],
      "metadata": {
        "colab": {
          "base_uri": "https://localhost:8080/"
        },
        "id": "l7zouHna6l2l",
        "outputId": "f111ed9b-6bad-4f39-b474-98e066248e16"
      },
      "execution_count": null,
      "outputs": [
        {
          "output_type": "execute_result",
          "data": {
            "text/plain": [
              "array([[ 2,  4,  6],\n",
              "       [ 4, 10, 14]])"
            ]
          },
          "metadata": {},
          "execution_count": 87
        }
      ]
    },
    {
      "cell_type": "code",
      "source": [
        "matrix-matrix2"
      ],
      "metadata": {
        "colab": {
          "base_uri": "https://localhost:8080/"
        },
        "id": "qOSCI8A-6mEo",
        "outputId": "26aa626a-c60f-4c07-d22f-011515ccc1e0"
      },
      "execution_count": null,
      "outputs": [
        {
          "output_type": "execute_result",
          "data": {
            "text/plain": [
              "array([[ 0,  0,  0],\n",
              "       [ 4,  0, -2]])"
            ]
          },
          "metadata": {},
          "execution_count": 88
        }
      ]
    },
    {
      "cell_type": "code",
      "source": [
        "matrix.transpose()"
      ],
      "metadata": {
        "colab": {
          "base_uri": "https://localhost:8080/"
        },
        "id": "ec2b-HSx6xL8",
        "outputId": "f0c7cb55-f1aa-4c98-8e05-fa4b81e19f69"
      },
      "execution_count": null,
      "outputs": [
        {
          "output_type": "execute_result",
          "data": {
            "text/plain": [
              "array([[1, 4],\n",
              "       [2, 5],\n",
              "       [3, 6]])"
            ]
          },
          "metadata": {},
          "execution_count": 89
        }
      ]
    },
    {
      "cell_type": "code",
      "source": [
        "2*matrix"
      ],
      "metadata": {
        "colab": {
          "base_uri": "https://localhost:8080/"
        },
        "id": "8hAOHqgt7A3Q",
        "outputId": "b8045c94-79ab-426f-c44c-a474dbe45185"
      },
      "execution_count": null,
      "outputs": [
        {
          "output_type": "execute_result",
          "data": {
            "text/plain": [
              "array([[ 2,  4,  6],\n",
              "       [ 8, 10, 12]])"
            ]
          },
          "metadata": {},
          "execution_count": 90
        }
      ]
    },
    {
      "cell_type": "markdown",
      "source": [
        "#List"
      ],
      "metadata": {
        "id": "o645Bqkqsf7L"
      }
    },
    {
      "cell_type": "code",
      "source": [
        "lista=[5,8,11,79,55,55]"
      ],
      "metadata": {
        "id": "o7aojkqanmVa"
      },
      "execution_count": null,
      "outputs": []
    },
    {
      "cell_type": "code",
      "source": [
        "max(lista)"
      ],
      "metadata": {
        "colab": {
          "base_uri": "https://localhost:8080/"
        },
        "id": "F-IOpwpRs3UU",
        "outputId": "8d9f1efd-979b-4428-c867-1ff709f1436f"
      },
      "execution_count": null,
      "outputs": [
        {
          "output_type": "execute_result",
          "data": {
            "text/plain": [
              "79"
            ]
          },
          "metadata": {},
          "execution_count": 92
        }
      ]
    },
    {
      "cell_type": "code",
      "source": [
        "min(lista)"
      ],
      "metadata": {
        "colab": {
          "base_uri": "https://localhost:8080/"
        },
        "id": "pdqiyxDDs3Wy",
        "outputId": "427c9406-b7bc-4628-83aa-cb11ba3bfc4b"
      },
      "execution_count": null,
      "outputs": [
        {
          "output_type": "execute_result",
          "data": {
            "text/plain": [
              "5"
            ]
          },
          "metadata": {},
          "execution_count": 93
        }
      ]
    },
    {
      "cell_type": "code",
      "source": [
        "sum(lista)"
      ],
      "metadata": {
        "colab": {
          "base_uri": "https://localhost:8080/"
        },
        "id": "36l6yX83s3aN",
        "outputId": "072f6424-4a69-426a-ded1-abbefdde2e7a"
      },
      "execution_count": null,
      "outputs": [
        {
          "output_type": "execute_result",
          "data": {
            "text/plain": [
              "213"
            ]
          },
          "metadata": {},
          "execution_count": 94
        }
      ]
    },
    {
      "cell_type": "code",
      "source": [
        "lista[0]"
      ],
      "metadata": {
        "colab": {
          "base_uri": "https://localhost:8080/"
        },
        "id": "4NfFDB4GtC_a",
        "outputId": "dcb377f5-4b62-4fef-f67d-114fc99dface"
      },
      "execution_count": null,
      "outputs": [
        {
          "output_type": "execute_result",
          "data": {
            "text/plain": [
              "5"
            ]
          },
          "metadata": {},
          "execution_count": 95
        }
      ]
    },
    {
      "cell_type": "code",
      "source": [
        "lista.sort()"
      ],
      "metadata": {
        "id": "moJ5e9aRvvun"
      },
      "execution_count": null,
      "outputs": []
    },
    {
      "cell_type": "code",
      "source": [
        "lista.append(17)\n",
        "lista"
      ],
      "metadata": {
        "colab": {
          "base_uri": "https://localhost:8080/"
        },
        "id": "F2hjq3vAyVau",
        "outputId": "0f719d40-7eb7-45d6-d622-5b3060c333a0"
      },
      "execution_count": null,
      "outputs": [
        {
          "output_type": "execute_result",
          "data": {
            "text/plain": [
              "[5, 8, 11, 55, 55, 79, 17]"
            ]
          },
          "metadata": {},
          "execution_count": 97
        }
      ]
    },
    {
      "cell_type": "code",
      "source": [
        "lista.count(55)"
      ],
      "metadata": {
        "colab": {
          "base_uri": "https://localhost:8080/"
        },
        "id": "znweY7eryVc9",
        "outputId": "22447a33-6b6d-4683-e5cf-13660ec77b3a"
      },
      "execution_count": null,
      "outputs": [
        {
          "output_type": "execute_result",
          "data": {
            "text/plain": [
              "2"
            ]
          },
          "metadata": {},
          "execution_count": 98
        }
      ]
    },
    {
      "cell_type": "code",
      "source": [],
      "metadata": {
        "id": "xUd9s2gRyVfF"
      },
      "execution_count": null,
      "outputs": []
    },
    {
      "cell_type": "markdown",
      "source": [
        "#Git"
      ],
      "metadata": {
        "id": "ryqqoQdkomig"
      }
    },
    {
      "cell_type": "code",
      "source": [
        "!git init"
      ],
      "metadata": {
        "id": "Vir1LwBsyVik",
        "colab": {
          "base_uri": "https://localhost:8080/"
        },
        "outputId": "9955b5a7-960f-469e-fbff-5278c9e218c9"
      },
      "execution_count": 1,
      "outputs": [
        {
          "output_type": "stream",
          "name": "stdout",
          "text": [
            "\u001b[33mhint: Using 'master' as the name for the initial branch. This default branch name\u001b[m\n",
            "\u001b[33mhint: is subject to change. To configure the initial branch name to use in all\u001b[m\n",
            "\u001b[33mhint: of your new repositories, which will suppress this warning, call:\u001b[m\n",
            "\u001b[33mhint: \u001b[m\n",
            "\u001b[33mhint: \tgit config --global init.defaultBranch <name>\u001b[m\n",
            "\u001b[33mhint: \u001b[m\n",
            "\u001b[33mhint: Names commonly chosen instead of 'master' are 'main', 'trunk' and\u001b[m\n",
            "\u001b[33mhint: 'development'. The just-created branch can be renamed via this command:\u001b[m\n",
            "\u001b[33mhint: \u001b[m\n",
            "\u001b[33mhint: \tgit branch -m <name>\u001b[m\n",
            "Initialized empty Git repository in /content/.git/\n"
          ]
        }
      ]
    },
    {
      "cell_type": "code",
      "source": [
        "from google.colab import drive\n",
        "drive.mount('/content/drive')"
      ],
      "metadata": {
        "id": "zlZxiU03q_VU",
        "colab": {
          "base_uri": "https://localhost:8080/"
        },
        "outputId": "0a3a14ce-8e0c-41e7-d662-aa80d5e8ec44"
      },
      "execution_count": 2,
      "outputs": [
        {
          "output_type": "stream",
          "name": "stdout",
          "text": [
            "Mounted at /content/drive\n"
          ]
        }
      ]
    },
    {
      "cell_type": "code",
      "source": [
        "!git add /content/drive/MyDrive/matrix/First_Colab_File.ipynb"
      ],
      "metadata": {
        "id": "VV5EsTji6xqK"
      },
      "execution_count": 3,
      "outputs": []
    },
    {
      "cell_type": "code",
      "source": [
        "! git status"
      ],
      "metadata": {
        "colab": {
          "base_uri": "https://localhost:8080/"
        },
        "id": "BlbfdUq76x5p",
        "outputId": "5a98304f-300f-49cf-f449-d3d648876509"
      },
      "execution_count": 4,
      "outputs": [
        {
          "output_type": "stream",
          "name": "stdout",
          "text": [
            "On branch master\n",
            "\n",
            "No commits yet\n",
            "\n",
            "Changes to be committed:\n",
            "  (use \"git rm --cached <file>...\" to unstage)\n",
            "\t\u001b[32mnew file:   drive/MyDrive/matrix/First_Colab_File.ipynb\u001b[m\n",
            "\n",
            "Changes not staged for commit:\n",
            "  (use \"git add <file>...\" to update what will be committed)\n",
            "  (use \"git restore <file>...\" to discard changes in working directory)\n",
            "\t\u001b[31mmodified:   drive/MyDrive/matrix/First_Colab_File.ipynb\u001b[m\n",
            "\n",
            "Untracked files:\n",
            "  (use \"git add <file>...\" to include in what will be committed)\n",
            "\t\u001b[31m.config/\u001b[m\n",
            "\t\u001b[31mdrive/MyDrive/20231010_New Body Line (3).gsheet\u001b[m\n",
            "\t\u001b[31mdrive/MyDrive/240950979_4085107668253337_6434636654005548995_n (1).jpg\u001b[m\n",
            "\t\u001b[31mdrive/MyDrive/240950979_4085107668253337_6434636654005548995_n.jpg\u001b[m\n",
            "\t\u001b[31mdrive/MyDrive/241043987_555605645754037_4117809719235279948_n (1).jpg\u001b[m\n",
            "\t\u001b[31mdrive/MyDrive/241043987_555605645754037_4117809719235279948_n (2).jpg\u001b[m\n",
            "\t\u001b[31mdrive/MyDrive/241043987_555605645754037_4117809719235279948_n.jpg\u001b[m\n",
            "\t\u001b[31mdrive/MyDrive/241474865_4202502266515126_1043182382451018102_n (1).jpg\u001b[m\n",
            "\t\u001b[31mdrive/MyDrive/241474865_4202502266515126_1043182382451018102_n (2).jpg\u001b[m\n",
            "\t\u001b[31mdrive/MyDrive/241474865_4202502266515126_1043182382451018102_n.jpg\u001b[m\n",
            "\t\u001b[31mdrive/MyDrive/8f766258-b13f-4b4d-9606-9b2e493edb9e.pdf\u001b[m\n",
            "\t\u001b[31mdrive/MyDrive/Act3.1 (1).pdf\u001b[m\n",
            "\t\u001b[31mdrive/MyDrive/Act3.1 (2).pdf\u001b[m\n",
            "\t\u001b[31mdrive/MyDrive/Act3.1 (3).pdf\u001b[m\n",
            "\t\u001b[31mdrive/MyDrive/Act3.1.pdf\u001b[m\n",
            "\t\u001b[31mdrive/MyDrive/Argumentaire.gslides\u001b[m\n",
            "\t\u001b[31mdrive/MyDrive/Assignement 3 :Numerical Descriptive Measures   Required work: Exercice 1 2&6. (Mar 31, 2021 at 10:09 PM)\u001b[m\n",
            "\t\u001b[31mdrive/MyDrive/Assignement 4 (1).gsheet\u001b[m\n",
            "\t\u001b[31mdrive/MyDrive/Assignement 4 (2).gsheet\u001b[m\n",
            "\t\u001b[31mdrive/MyDrive/Assignement 4 (3).gsheet\u001b[m\n",
            "\t\u001b[31mdrive/MyDrive/Assignement 4 (4).gsheet\u001b[m\n",
            "\t\u001b[31mdrive/MyDrive/Assignement 4.gsheet\u001b[m\n",
            "\t\u001b[31mdrive/MyDrive/Assignement 8 (1).gsheet\u001b[m\n",
            "\t\u001b[31mdrive/MyDrive/Assignement 8.gsheet\u001b[m\n",
            "\t\u001b[31mdrive/MyDrive/Assignement 9 (1).gsheet\u001b[m\n",
            "\t\u001b[31mdrive/MyDrive/Assignement 9 (2).gsheet\u001b[m\n",
            "\t\u001b[31mdrive/MyDrive/Assignement 9 (3).gsheet\u001b[m\n",
            "\t\u001b[31mdrive/MyDrive/Assignement 9 (4).gsheet\u001b[m\n",
            "\t\u001b[31mdrive/MyDrive/Assignement 9 (5).gsheet\u001b[m\n",
            "\t\u001b[31mdrive/MyDrive/Assignement 9 (6).gsheet\u001b[m\n",
            "\t\u001b[31mdrive/MyDrive/Assignement 9 (7).gsheet\u001b[m\n",
            "\t\u001b[31mdrive/MyDrive/Assignement 9 (8).gsheet\u001b[m\n",
            "\t\u001b[31mdrive/MyDrive/Assignement 9.gsheet\u001b[m\n",
            "\t\u001b[31mdrive/MyDrive/Assignment 10 (1).gsheet\u001b[m\n",
            "\t\u001b[31mdrive/MyDrive/Assignment 10.gsheet\u001b[m\n",
            "\t\u001b[31mdrive/MyDrive/Assignment 2 (Nov 13, 2022 at 8:58 PM)\u001b[m\n",
            "\t\u001b[31mdrive/MyDrive/Assignment 2 (Nov 13, 2022 at 9:02 PM)\u001b[m\n",
            "\t\u001b[31mdrive/MyDrive/Assignment 6 (1).gsheet\u001b[m\n",
            "\t\u001b[31mdrive/MyDrive/Assignment 6 (2).gsheet\u001b[m\n",
            "\t\u001b[31mdrive/MyDrive/Assignment 6 (3).gsheet\u001b[m\n",
            "\t\u001b[31mdrive/MyDrive/Assignment 6 (4).gsheet\u001b[m\n",
            "\t\u001b[31mdrive/MyDrive/Assignment 6.gsheet\u001b[m\n",
            "\t\u001b[31mdrive/MyDrive/Assignment 7 Solution (1).gsheet\u001b[m\n",
            "\t\u001b[31mdrive/MyDrive/Assignment 7 Solution.gsheet\u001b[m\n",
            "\t\u001b[31mdrive/MyDrive/Assignment 8 (1).gsheet\u001b[m\n",
            "\t\u001b[31mdrive/MyDrive/Assignment 8.gsheet\u001b[m\n",
            "\t\u001b[31mdrive/MyDrive/Assignment 9 adjusted.gsheet\u001b[m\n",
            "\t\u001b[31mdrive/MyDrive/Assignment 9.gsheet\u001b[m\n",
            "\t\u001b[31mdrive/MyDrive/Assignment-10 (1) (1).gsheet\u001b[m\n",
            "\t\u001b[31mdrive/MyDrive/Assignment-10 (1).gsheet\u001b[m\n",
            "\t\u001b[31mdrive/MyDrive/Assignment-11.gsheet\u001b[m\n",
            "\t\u001b[31mdrive/MyDrive/Assistant Manager Assignment 4 (1).xlsx\u001b[m\n",
            "\t\u001b[31mdrive/MyDrive/Assistant Manager Assignment 4 (2).xlsx\u001b[m\n",
            "\t\u001b[31mdrive/MyDrive/Assistant Manager Assignment 4.xlsx\u001b[m\n",
            "\t\u001b[31mdrive/MyDrive/Aya Dhaoui CV (3).pdf\u001b[m\n",
            "\t\u001b[31mdrive/MyDrive/Aya Dhaoui.pdf\u001b[m\n",
            "\t\u001b[31mdrive/MyDrive/Aya dhaoui CV.gdoc\u001b[m\n",
            "\t\u001b[31mdrive/MyDrive/Aya dhaoui CV.pdf\u001b[m\n",
            "\t\u001b[31mdrive/MyDrive/Aya.xlsx\u001b[m\n",
            "\t\u001b[31mdrive/MyDrive/Basel Accords.gslides\u001b[m\n",
            "\t\u001b[31mdrive/MyDrive/Black White and Teal Minimal Abstract Patterns Finance Report Finance Presentation (1).pptx\u001b[m\n",
            "\t\u001b[31mdrive/MyDrive/Black White and Teal Minimal Abstract Patterns Finance Report Finance Presentation.pptx\u001b[m\n",
            "\t\u001b[31mdrive/MyDrive/Book.gsheet\u001b[m\n",
            "\t\u001b[31mdrive/MyDrive/Book.xlsx\u001b[m\n",
            "\t\u001b[31mdrive/MyDrive/Book_basic_business_statistics_mark_berenson_12E.gdoc\u001b[m\n",
            "\t\u001b[31mdrive/MyDrive/Breast Cancer Wisconsin (Diagnostic).gsheet\u001b[m\n",
            "\t\u001b[31mdrive/MyDrive/CHP05 Managerial Planning and Goal Setting-1.pptx\u001b[m\n",
            "\t\u001b[31mdrive/MyDrive/CHP06 Strategy Formulation and Implementation (1).pptx\u001b[m\n",
            "\t\u001b[31mdrive/MyDrive/CHP06 Strategy Formulation and Implementation (2).pptx\u001b[m\n",
            "\t\u001b[31mdrive/MyDrive/CHP06 Strategy Formulation and Implementation (3).pptx\u001b[m\n",
            "\t\u001b[31mdrive/MyDrive/CHP06 Strategy Formulation and Implementation (4).pptx\u001b[m\n",
            "\t\u001b[31mdrive/MyDrive/CHP06 Strategy Formulation and Implementation (5).pptx\u001b[m\n",
            "\t\u001b[31mdrive/MyDrive/CHP06 Strategy Formulation and Implementation.pptx\u001b[m\n",
            "\t\u001b[31mdrive/MyDrive/Chapter 02 NZ P1 2023VFS.gdoc\u001b[m\n",
            "\t\u001b[31mdrive/MyDrive/Chapter 1 Intorduction to MRK COMM.txt\u001b[m\n",
            "\t\u001b[31mdrive/MyDrive/Classroom/\u001b[m\n",
            "\t\u001b[31mdrive/MyDrive/Convention de Stage TBS 2023.gdoc\u001b[m\n",
            "\t\u001b[31mdrive/MyDrive/Convention de Stage TBS 2023.pdf\u001b[m\n",
            "\t\u001b[31mdrive/MyDrive/Copie de Mass Media Agency by Slidesgo (1).gslides\u001b[m\n",
            "\t\u001b[31mdrive/MyDrive/Copie de Mass Media Agency by Slidesgo.gdoc\u001b[m\n",
            "\t\u001b[31mdrive/MyDrive/Copie de Mass Media Agency by Slidesgo.gslides\u001b[m\n",
            "\t\u001b[31mdrive/MyDrive/Copie de Mass Media Agency by Slidesgo.pdf\u001b[m\n",
            "\t\u001b[31mdrive/MyDrive/Copie de Sales Meeting by Slidesgo.gslides\u001b[m\n",
            "\t\u001b[31mdrive/MyDrive/Copie de TBS internship Report Format 2024.docx\u001b[m\n",
            "\t\u001b[31mdrive/MyDrive/Copie de Vineyard Company Profile by Slidesgo.gslides\u001b[m\n",
            "\t\u001b[31mdrive/MyDrive/Copie de Vintage History Thesis by Slidesgo.gslides\u001b[m\n",
            "\t\u001b[31mdrive/MyDrive/Copy of TND - PCA - FX Rates (1).gsheet\u001b[m\n",
            "\t\u001b[31mdrive/MyDrive/Copy of TND - PCA - FX Rates.gsheet\u001b[m\n",
            "\t\u001b[31mdrive/MyDrive/Copy-of-TND-PCA-FX-Rates-1.xlsx\u001b[m\n",
            "\t\u001b[31mdrive/MyDrive/Credit Risk Cases (1).gsheet\u001b[m\n",
            "\t\u001b[31mdrive/MyDrive/Credit Risk Cases (2).gsheet\u001b[m\n",
            "\t\u001b[31mdrive/MyDrive/Credit Risk Cases.gsheet\u001b[m\n",
            "\t\u001b[31mdrive/MyDrive/Data science presentation/\u001b[m\n",
            "\t\u001b[31m\"drive/MyDrive/Echanciers de\\314\\201taille\\314\\201s CMT - TBS (1).xlsx\"\u001b[m\n",
            "\t\u001b[31m\"drive/MyDrive/Echanciers de\\314\\201taille\\314\\201s CMT - TBS.xlsx\"\u001b[m\n",
            "\t\u001b[31mdrive/MyDrive/Etat des affaires MEF 2022 - TBS (1).xls\u001b[m\n",
            "\t\u001b[31mdrive/MyDrive/Etat des affaires MEF 2022 - TBS (2).xls\u001b[m\n",
            "\t\u001b[31mdrive/MyDrive/Etat des affaires MEF 2022 - TBS (3).xls\u001b[m\n",
            "\t\u001b[31mdrive/MyDrive/Etat des affaires MEF 2022 - TBS.xls\u001b[m\n",
            "\t\u001b[31m\"drive/MyDrive/Etat des transactions groupe Telnet sur le marche\\314\\201 de change 2019---2023 (1).xlsx\"\u001b[m\n",
            "\t\u001b[31m\"drive/MyDrive/Etat des transactions groupe Telnet sur le marche\\314\\201 de change 2019---2023.xlsx\"\u001b[m\n",
            "\t\u001b[31m\"drive/MyDrive/Etat-des-transactions-groupe-Telnet-sur-le-marche\\314\\201-de-change-2019-2023.xlsx\"\u001b[m\n",
            "\t\u001b[31mdrive/MyDrive/Extra exercises (Nov 7, 2020 at 9:14 PM)\u001b[m\n",
            "\t\u001b[31mdrive/MyDrive/FRM Project.xlsx\u001b[m\n",
            "\t\u001b[31mdrive/MyDrive/Feuille de calcul sans titre.gsheet\u001b[m\n",
            "\t\u001b[31mdrive/MyDrive/Futures and Forward Valuation 24-02-2023 (1).gsheet\u001b[m\n",
            "\t\u001b[31mdrive/MyDrive/Futures and Forward Valuation 24-02-2023 (2).gsheet\u001b[m\n",
            "\t\u001b[31mdrive/MyDrive/Futures and Forward Valuation 24-02-2023.gsheet\u001b[m\n",
            "\t\u001b[31mdrive/MyDrive/Homework2_Sensitivity analysis (May 22, 2022 at 10:03 PM)\u001b[m\n",
            "\t\u001b[31mdrive/MyDrive/Homework2_Sensitivity analysis (May 22, 2022 at 10:05 PM)\u001b[m\n",
            "\t\u001b[31mdrive/MyDrive/Homework2_Sensitivity analysis (May 22, 2022 at 9:18 PM)\u001b[m\n",
            "\t\u001b[31mdrive/MyDrive/Homework2_Sensitivity analysis (May 22, 2022 at 9:19 PM)\u001b[m\n",
            "\t\u001b[31mdrive/MyDrive/Homework2_Sensitivity analysis (May 22, 2022 at 9:20 PM)\u001b[m\n",
            "\t\u001b[31mdrive/MyDrive/IMG_2515.jpg\u001b[m\n",
            "\t\u001b[31mdrive/MyDrive/Influence of mobile technology on BUYERS BEHAVIOR.gdoc\u001b[m\n",
            "\t\u001b[31mdrive/MyDrive/Integrated Advertising, promotion, and marketing communication.pdf\u001b[m\n",
            "\t\u001b[31mdrive/MyDrive/Interest Rates Futures cases.gsheet\u001b[m\n",
            "\t\u001b[31mdrive/MyDrive/MRP.pptx\u001b[m\n",
            "\t\u001b[31mdrive/MyDrive/Machine learning with python- KNN.gdoc\u001b[m\n",
            "\t\u001b[31mdrive/MyDrive/Margin accounts Solution.gsheet\u001b[m\n",
            "\t\u001b[31mdrive/MyDrive/Margin accounts.gsheet\u001b[m\n",
            "\t\u001b[31mdrive/MyDrive/Market Data 2.gsheet\u001b[m\n",
            "\t\u001b[31mdrive/MyDrive/Market Data Correction 2 (1).gsheet\u001b[m\n",
            "\t\u001b[31mdrive/MyDrive/Market Data Correction 2 (2).gsheet\u001b[m\n",
            "\t\u001b[31mdrive/MyDrive/Market Data Correction 2 (3).gsheet\u001b[m\n",
            "\t\u001b[31mdrive/MyDrive/Market Data Correction 2 (4).gsheet\u001b[m\n",
            "\t\u001b[31mdrive/MyDrive/Market Data Correction 2 (5).gsheet\u001b[m\n",
            "\t\u001b[31mdrive/MyDrive/Market Data Correction 2.gsheet\u001b[m\n",
            "\t\u001b[31mdrive/MyDrive/Market Data.gsheet\u001b[m\n",
            "\t\u001b[31mdrive/MyDrive/Market-Data-9-19-23-Correction (1).gsheet\u001b[m\n",
            "\t\u001b[31mdrive/MyDrive/Market-Data-9-19-23-Correction.gsheet\u001b[m\n",
            "\t\u001b[31mdrive/MyDrive/Marketing Communication txtbook.pdf\u001b[m\n",
            "\t\u001b[31m\"drive/MyDrive/Marketing Communications, 9th Edition (2023) [Team-IRA] -- Chris Fill, Sarah Turnbull -- 9th, 2023 -- Pearson -- 9781292400327 -- 421fca5b2608047508676ff388e68b84 -- Anna\\342\\200\\231s Archive.pdf\"\u001b[m\n",
            "\t\u001b[31mdrive/MyDrive/Neural net with python _ iris data.gdoc\u001b[m\n",
            "\t\u001b[31mdrive/MyDrive/Option Strategies.gsheet\u001b[m\n",
            "\t\u001b[31mdrive/MyDrive/Options cases.gsheet\u001b[m\n",
            "\t\u001b[31mdrive/MyDrive/PFE /\u001b[m\n",
            "\t\u001b[31mdrive/MyDrive/PFE REPORT2 (1).docx\u001b[m\n",
            "\t\u001b[31mdrive/MyDrive/PFE REPORT2.docx\u001b[m\n",
            "\t\u001b[31mdrive/MyDrive/PFE report.docx\u001b[m\n",
            "\t\u001b[31m\"drive/MyDrive/Pre\\314\\201sentation de prototypage.gslides\"\u001b[m\n",
            "\t\u001b[31mdrive/MyDrive/RESEAU.png\u001b[m\n",
            "\t\u001b[31m\"drive/MyDrive/Re\\314\\201publique Tunisienne.pdf\"\u001b[m\n",
            "\t\u001b[31mdrive/MyDrive/Rim Moalla.pdf\u001b[m\n",
            "\t\u001b[31mdrive/MyDrive/SCAN PDF (1).pdf\u001b[m\n",
            "\t\u001b[31mdrive/MyDrive/TBS internship Report Format 2024 (RIDHA ESGHAIER) (1).docx\u001b[m\n",
            "\t\u001b[31mdrive/MyDrive/TBS internship Report Format 2024 (RIDHA ESGHAIER).docx\u001b[m\n",
            "\t\u001b[31mdrive/MyDrive/Tableau des Emprunts au 31-12-2022 - TBS (1).xlsx\u001b[m\n",
            "\t\u001b[31mdrive/MyDrive/Tableau des Emprunts au 31-12-2022 - TBS.xlsx\u001b[m\n",
            "\t\u001b[31mdrive/MyDrive/Tensorflow.gdoc\u001b[m\n",
            "\t\u001b[31mdrive/MyDrive/The relationship between macroeconomic variables and firm firm financial performance.gdoc\u001b[m\n",
            "\t\u001b[31mdrive/MyDrive/The relationship between macroeconomic variables and firm firm financial performance.pdf\u001b[m\n",
            "\t\u001b[31mdrive/MyDrive/Titanic-decision tree.ipynb\u001b[m\n",
            "\t\u001b[31mdrive/MyDrive/Tutorial 3_summary of solutions.gsheet\u001b[m\n",
            "\t\u001b[31mdrive/MyDrive/Tutorial_5_Sensitivity_Analysis_2022+solutions.gdoc\u001b[m\n",
            "\t\u001b[31mdrive/MyDrive/advertising-design-lecture-notes-semester-1.pdf\u001b[m\n",
            "\t\u001b[31mdrive/MyDrive/aggregate planning.gslides\u001b[m\n",
            "\t\u001b[31mdrive/MyDrive/aya dhaoui - Assignment 7 (1).gsheet\u001b[m\n",
            "\t\u001b[31mdrive/MyDrive/aya dhaoui - Assignment 7 (2).gsheet\u001b[m\n",
            "\t\u001b[31mdrive/MyDrive/aya dhaoui - Assignment 7 (3).gsheet\u001b[m\n",
            "\t\u001b[31mdrive/MyDrive/aya dhaoui - Assignment 7.gsheet\u001b[m\n",
            "\t\u001b[31mdrive/MyDrive/aya dhaoui - Assignment 7.xlsx\u001b[m\n",
            "\t\u001b[31mdrive/MyDrive/chap5 private equity valuation (1).gslides\u001b[m\n",
            "\t\u001b[31mdrive/MyDrive/chap5 private equity valuation (2).gslides\u001b[m\n",
            "\t\u001b[31mdrive/MyDrive/chap5 private equity valuation.gslides\u001b[m\n",
            "\t\u001b[31mdrive/MyDrive/chap7.pptx\u001b[m\n",
            "\t\u001b[31mdrive/MyDrive/chapter-3-marketing-communications-tb-3.pdf\u001b[m\n",
            "\t\u001b[31mdrive/MyDrive/chapter-5-study-notes-test-bank.pdf\u001b[m\n",
            "\t\u001b[31mdrive/MyDrive/chapter_1_ Capcity.gslides\u001b[m\n",
            "\t\u001b[31mdrive/MyDrive/clow-chapter-3-buyer-behaviors.pdf\u001b[m\n",
            "\t\u001b[31mdrive/MyDrive/clow-chapter-5-advertising-management.pdf\u001b[m\n",
            "\t\u001b[31mdrive/MyDrive/clow-chapter-6-advertising-design-theoretical-frameworks-and-types-of-appeals.pdf\u001b[m\n",
            "\t\u001b[31mdrive/MyDrive/eya.xlsx\u001b[m\n",
            "\t\u001b[31mdrive/MyDrive/fin model.gsheet\u001b[m\n",
            "\t\u001b[31mdrive/MyDrive/fin model.xlsx\u001b[m\n",
            "\t\u001b[31mdrive/MyDrive/final-aya.dhaouiG3 (1).rar\u001b[m\n",
            "\t\u001b[31mdrive/MyDrive/housing.gsheet\u001b[m\n",
            "\t\u001b[31mdrive/MyDrive/knn intro tutorial from w3school.gdoc\u001b[m\n",
            "\t\u001b[31mdrive/MyDrive/linear algebra chapter 1 (1).gslides\u001b[m\n",
            "\t\u001b[31mdrive/MyDrive/linear algebra chapter 2.gslides\u001b[m\n",
            "\t\u001b[31mdrive/MyDrive/mrkt-chp-6-student-test-master.pdf\u001b[m\n",
            "\t\u001b[31mdrive/MyDrive/part 2 (1)/\u001b[m\n",
            "\t\u001b[31mdrive/MyDrive/part 2/\u001b[m\n",
            "\t\u001b[31mdrive/MyDrive/part 3/\u001b[m\n",
            "\t\u001b[31mdrive/MyDrive/pfe ppt.pptx\u001b[m\n",
            "\t\u001b[31mdrive/MyDrive/pferiskmanagement (1).doc\u001b[m\n",
            "\t\u001b[31mdrive/MyDrive/pferiskmanagement.doc\u001b[m\n",
            "\t\u001b[31mdrive/MyDrive/swaps 3-24.gsheet\u001b[m\n",
            "\t\u001b[31mdrive/MyDrive/test-bank-advertising-promotion-an-integrated-marketing-communications-perspective-8th-edition-belchtextmark-pdf-free.pdf\u001b[m\n",
            "\t\u001b[31mdrive/MyDrive/untitled folder/\u001b[m\n",
            "\t\u001b[31msample_data/\u001b[m\n",
            "\n"
          ]
        }
      ]
    },
    {
      "cell_type": "code",
      "source": [
        "!git commit -m \"Initial commit :)\""
      ],
      "metadata": {
        "colab": {
          "base_uri": "https://localhost:8080/"
        },
        "id": "4AjcYnYu9c6E",
        "outputId": "aca38627-5488-4dfb-866c-bd2fcda71d3d"
      },
      "execution_count": 5,
      "outputs": [
        {
          "output_type": "stream",
          "name": "stdout",
          "text": [
            "Author identity unknown\n",
            "\n",
            "*** Please tell me who you are.\n",
            "\n",
            "Run\n",
            "\n",
            "  git config --global user.email \"you@example.com\"\n",
            "  git config --global user.name \"Your Name\"\n",
            "\n",
            "to set your account's default identity.\n",
            "Omit --global to set the identity only in this repository.\n",
            "\n",
            "fatal: unable to auto-detect email address (got 'root@8ad3138d1235.(none)')\n"
          ]
        }
      ]
    },
    {
      "cell_type": "code",
      "source": [
        "#authentication\n",
        "!git config --global user.email \"ayadhaoui2020@gmail.com\"\n",
        "!git config --global user.name \"aya\""
      ],
      "metadata": {
        "id": "PN50OiMD9c8a"
      },
      "execution_count": 9,
      "outputs": []
    },
    {
      "cell_type": "code",
      "source": [
        "!git commit -m \"second commit :) \""
      ],
      "metadata": {
        "id": "knyksNLZ9c-1"
      },
      "execution_count": null,
      "outputs": []
    },
    {
      "cell_type": "code",
      "source": [
        "import numpy\n",
        "numpy .__version__"
      ],
      "metadata": {
        "colab": {
          "base_uri": "https://localhost:8080/",
          "height": 36
        },
        "id": "JYRNOrMsBCwG",
        "outputId": "062ec324-6e5b-4b50-ebfe-a6534c7cf4e0"
      },
      "execution_count": 11,
      "outputs": [
        {
          "output_type": "execute_result",
          "data": {
            "text/plain": [
              "'1.26.4'"
            ],
            "application/vnd.google.colaboratory.intrinsic+json": {
              "type": "string"
            }
          },
          "metadata": {},
          "execution_count": 11
        }
      ]
    },
    {
      "cell_type": "code",
      "source": [
        "!git commit -m \"commit after numpy\""
      ],
      "metadata": {
        "id": "rQEI7Itv9dCb"
      },
      "execution_count": null,
      "outputs": []
    },
    {
      "cell_type": "code",
      "source": [],
      "metadata": {
        "id": "74VS3z4XC98F"
      },
      "execution_count": null,
      "outputs": []
    },
    {
      "cell_type": "code",
      "source": [],
      "metadata": {
        "id": "pCpd6UpZC9-N"
      },
      "execution_count": null,
      "outputs": []
    },
    {
      "cell_type": "code",
      "source": [],
      "metadata": {
        "id": "IjzOdS90C-Bn"
      },
      "execution_count": null,
      "outputs": []
    }
  ]
}